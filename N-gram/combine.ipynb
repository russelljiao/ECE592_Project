{
 "cells": [
  {
   "cell_type": "code",
   "execution_count": 3,
   "id": "b7da2c05-d455-40d6-a999-74c26644a6a8",
   "metadata": {},
   "outputs": [
    {
     "name": "stdout",
     "output_type": "stream",
     "text": [
      "The combined data set is saved to a file: /Users/jiaoyihan/capstone/capstone_project/Combined_emails_ngram.csv\n"
     ]
    }
   ],
   "source": [
    "import pandas as pd\n",
    "\n",
    "# Load the processed phishing and normal mail datasets\n",
    "phishing_path = '/Users/jiaoyihan/capstone/capstone_project/Processed_CaptstoneProjectData_2024_ngram.csv'\n",
    "normal_path = '/Users/jiaoyihan/capstone/capstone_project/Processed_emails_ngram.csv'\n",
    "\n",
    "phishing_data = pd.read_csv(phishing_path)\n",
    "normal_data = pd.read_csv(normal_path)\n",
    "\n",
    "# Add label columns: 1 for phishing emails and 0 for normal emails\n",
    "phishing_data['label'] = 1\n",
    "normal_data['label'] = 0\n",
    "\n",
    "# Merge data set\n",
    "combined_data = pd.concat([phishing_data, normal_data], ignore_index=True)\n",
    "\n",
    "# Save the merged data set\n",
    "output_path = '/Users/jiaoyihan/capstone/capstone_project/Combined_emails_ngram.csv'\n",
    "combined_data.to_csv(output_path, index=False)\n",
    "\n",
    "print(f\"The combined data set is saved to a file: {output_path}\")\n"
   ]
  },
  {
   "cell_type": "code",
   "execution_count": null,
   "id": "a477acc1-c083-4e66-884a-df19d33ca69f",
   "metadata": {},
   "outputs": [],
   "source": []
  }
 ],
 "metadata": {
  "kernelspec": {
   "display_name": "Python 3 (ipykernel)",
   "language": "python",
   "name": "python3"
  },
  "language_info": {
   "codemirror_mode": {
    "name": "ipython",
    "version": 3
   },
   "file_extension": ".py",
   "mimetype": "text/x-python",
   "name": "python",
   "nbconvert_exporter": "python",
   "pygments_lexer": "ipython3",
   "version": "3.8.18"
  }
 },
 "nbformat": 4,
 "nbformat_minor": 5
}
