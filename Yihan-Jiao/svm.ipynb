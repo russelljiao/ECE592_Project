{
 "cells": [
  {
   "cell_type": "code",
   "execution_count": 3,
   "id": "6fb4b496-bb14-4594-b871-27ed96994684",
   "metadata": {},
   "outputs": [
    {
     "name": "stdout",
     "output_type": "stream",
     "text": [
      "data columns: Index(['able', 'access', 'account', 'account will', 'accounts', 'action',\n",
      "       'action required', 'active', 'activity', 'address',\n",
      "       ...\n",
      "       'version content', 'version content type', 'vince', 'vince kaminski',\n",
      "       'wed', 'wednesday', 'white', 'william', 'williams', 'york'],\n",
      "      dtype='object', length=863)\n"
     ]
    }
   ],
   "source": [
    "import pandas as pd\n",
    "from sklearn.model_selection import train_test_split\n",
    "from sklearn.metrics import accuracy_score, classification_report, confusion_matrix\n",
    "import matplotlib.pyplot as plt\n",
    "import seaborn as sns\n",
    "\n",
    "# 加载预处理后的N-gram特征数据\n",
    "input_file_path = '/Users/jiaoyihan/capstone/capstone_project/combined_emails_ngram.csv'\n",
    "data = pd.read_csv(input_file_path)\n",
    "\n",
    "# 打印列名以检查标签列的名称\n",
    "print(\"data columns:\", data.columns)\n"
   ]
  },
  {
   "cell_type": "code",
   "execution_count": 5,
   "id": "9868e599-246f-4329-8d40-42a773a4d262",
   "metadata": {},
   "outputs": [
    {
     "name": "stdout",
     "output_type": "stream",
     "text": [
      "Phishing data columns: Index(['able', 'access', 'account', 'account will', 'accounts', 'action',\n",
      "       'action required', 'active', 'activity', 'address',\n",
      "       ...\n",
      "       'wish', 'within', 'within hours', 'without', 'work', 'working', 'world',\n",
      "       'year', 'years', 'zip'],\n",
      "      dtype='object', length=500)\n",
      "Normal data columns: Index(['file', 'message'], dtype='object')\n"
     ]
    }
   ],
   "source": [
    "import pandas as pd\n",
    "\n",
    "# 加载数据集\n",
    "phishing_file_path = '/Users/jiaoyihan/capstone/capstone_project/Processed_CaptstoneProjectData_2024_ngram.csv'\n",
    "normal_file_path = '/Users/jiaoyihan/capstone/capstone_project/emails.csv'\n",
    "\n",
    "phishing_data = pd.read_csv(phishing_file_path)\n",
    "normal_data = pd.read_csv(normal_file_path)\n",
    "\n",
    "# 打印列名以检查\n",
    "print(\"Phishing data columns:\", phishing_data.columns)\n",
    "print(\"Normal data columns:\", normal_data.columns)\n"
   ]
  },
  {
   "cell_type": "code",
   "execution_count": 10,
   "id": "dff4850d-2cb3-41f4-a842-e7fbbb0805bb",
   "metadata": {},
   "outputs": [
    {
     "name": "stdout",
     "output_type": "stream",
     "text": [
      "数据集的列名: Index(['able', 'access', 'account', 'account will', 'accounts', 'action',\n",
      "       'action required', 'active', 'activity', 'address',\n",
      "       ...\n",
      "       'version content', 'version content type', 'vince', 'vince kaminski',\n",
      "       'wed', 'wednesday', 'white', 'william', 'williams', 'york'],\n",
      "      dtype='object', length=863)\n",
      "准确率: 1.0\n",
      "分类报告:\n",
      "              precision    recall  f1-score   support\n",
      "\n",
      "           0       1.00      1.00      1.00    103447\n",
      "           1       1.00      1.00      1.00       549\n",
      "\n",
      "    accuracy                           1.00    103996\n",
      "   macro avg       1.00      1.00      1.00    103996\n",
      "weighted avg       1.00      1.00      1.00    103996\n",
      "\n"
     ]
    },
    {
     "data": {
      "image/png": "[encoded data removed]",
      "text/plain": [
       "<Figure size 800x600 with 2 Axes>"
      ]
     },
     "metadata": {},
     "output_type": "display_data"
    }
   ],
   "source": [
    "import pandas as pd\n",
    "from sklearn.model_selection import train_test_split\n",
    "from sklearn.svm import SVC\n",
    "from sklearn.metrics import accuracy_score, classification_report, confusion_matrix\n",
    "import matplotlib.pyplot as plt\n",
    "import seaborn as sns\n",
    "\n",
    "# 加载数据集\n",
    "file_path = '/Users/jiaoyihan/capstone/capstone_project/Combined_emails_ngram.csv'\n",
    "data = pd.read_csv(file_path)\n",
    "\n",
    "# 打印列名以检查标签列的名称\n",
    "print(\"数据集的列名:\", data.columns)\n",
    "\n",
    "# 填充缺失值（这里使用0进行填充，也可以使用其他策略）\n",
    "data = data.fillna(0)\n",
    "\n",
    "# 确认标签列名，假设标签列名为 'label'\n",
    "label_column = 'label'\n",
    "\n",
    "# 检查标签列是否存在\n",
    "if label_column not in data.columns:\n",
    "    raise KeyError(f\"数据集中不包含名为'{label_column}'的列。\")\n",
    "\n",
    "# 分割特征和标签\n",
    "X = data.drop(label_column, axis=1)\n",
    "y = data[label_column]\n",
    "\n",
    "# 划分训练集和测试集\n",
    "X_train, X_test, y_train, y_test = train_test_split(X, y, test_size=0.2, random_state=42)\n",
    "\n",
    "# 初始化SVM模型\n",
    "model = SVC(kernel='linear', random_state=42)\n",
    "\n",
    "# 在训练集上训练模型\n",
    "model.fit(X_train, y_train)\n",
    "\n",
    "# 在测试集上进行预测\n",
    "y_pred = model.predict(X_test)\n",
    "\n",
    "# 计算准确率\n",
    "accuracy = accuracy_score(y_test, y_pred)\n",
    "print(f\"准确率: {accuracy}\")\n",
    "\n",
    "# 打印分类报告\n",
    "print(\"分类报告:\")\n",
    "print(classification_report(y_test, y_pred))\n",
    "\n",
    "# 生成混淆矩阵\n",
    "conf_matrix = confusion_matrix(y_test, y_pred)\n",
    "\n",
    "# 绘制混淆矩阵\n",
    "plt.figure(figsize=(8, 6))\n",
    "sns.heatmap(conf_matrix, annot=True, fmt='d', cmap='Blues', xticklabels=['Normal', 'Phishing'], yticklabels=['Normal', 'Phishing'])\n",
    "plt.xlabel('Predicted label')\n",
    "plt.ylabel('True label')\n",
    "plt.title('Confusion Matrix - SVM')\n",
    "plt.show()\n"
   ]
  },
  {
   "cell_type": "code",
   "execution_count": null,
   "id": "599454c8-babc-4e82-9ce8-ab11e87ac305",
   "metadata": {},
   "outputs": [],
   "source": []
  }
 ],
 "metadata": {
  "kernelspec": {
   "display_name": "Python 3 (ipykernel)",
   "language": "python",
   "name": "python3"
  },
  "language_info": {
   "codemirror_mode": {
    "name": "ipython",
    "version": 3
   },
   "file_extension": ".py",
   "mimetype": "text/x-python",
   "name": "python",
   "nbconvert_exporter": "python",
   "pygments_lexer": "ipython3",
   "version": "3.8.18"
  }
 },
 "nbformat": 4,
 "nbformat_minor": 5
}
