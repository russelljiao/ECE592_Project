{
 "cells": [
  {
   "cell_type": "code",
   "execution_count": 1,
   "metadata": {},
   "outputs": [],
   "source": [
    "import pandas as pd\n",
    "import os"
   ]
  },
  {
   "cell_type": "code",
   "execution_count": 2,
   "metadata": {},
   "outputs": [
    {
     "name": "stdout",
     "output_type": "stream",
     "text": [
      "Saved file size: 1.97 MB\n"
     ]
    }
   ],
   "source": [
    "df = pd.read_csv('enron_emails.csv')\n",
    "\n",
    "row_size = df.memory_usage(index=True, deep=True).sum() / len(df)\n",
    "\n",
    "# subsample approximately 2.2MB\n",
    "target_size_mb = 2.2\n",
    "target_size_bytes = target_size_mb * 1024 * 1024\n",
    "num_rows = int(target_size_bytes / row_size)\n",
    "\n",
    "# randomly sample the rows\n",
    "sampled_df = df.sample(n=num_rows, random_state=42)\n",
    "\n",
    "sampled_df.to_csv('enron_subsampled.csv', index=False)\n",
    "\n",
    "file_size = os.path.getsize('enron_subsampled.csv') / (1024 * 1024)\n",
    "print(f'Saved file size: {file_size:.2f} MB')\n"
   ]
  }
 ],
 "metadata": {
  "kernelspec": {
   "display_name": "pttf",
   "language": "python",
   "name": "python3"
  },
  "language_info": {
   "codemirror_mode": {
    "name": "ipython",
    "version": 3
   },
   "file_extension": ".py",
   "mimetype": "text/x-python",
   "name": "python",
   "nbconvert_exporter": "python",
   "pygments_lexer": "ipython3",
   "version": "3.9.16"
  }
 },
 "nbformat": 4,
 "nbformat_minor": 2
}
