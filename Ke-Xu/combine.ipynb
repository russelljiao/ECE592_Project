{
 "cells": [
  {
   "cell_type": "code",
   "execution_count": null,
   "metadata": {},
   "outputs": [],
   "source": [
    "import pandas as pd"
   ]
  },
  {
   "cell_type": "code",
   "execution_count": null,
   "metadata": {},
   "outputs": [],
   "source": [
    "enron_df = pd.read_csv('/mnt/data/enron_subsampled.csv')\n",
    "capstone_df = pd.read_csv('/mnt/data/CaptstoneProjectData_2024.csv')\n",
    "\n",
    "# Extract main body text from Enron emails\n",
    "enron_df['body'] = enron_df['message'].apply(lambda x: x.split('\\n\\n', 1)[-1] if pd.notnull(x) else x)\n",
    "\n",
    "enron_df['label'] = 0  # Negative label for normal emails\n",
    "capstone_df['label'] = 1  # Positive label for phishing emails\n",
    "\n",
    "capstone_df = capstone_df.rename(columns={'Body': 'body'})\n",
    "columns_to_keep = ['body', 'label']\n",
    "enron_df = enron_df[columns_to_keep]\n",
    "capstone_df = capstone_df[columns_to_keep]\n",
    "\n",
    "combined_df = pd.concat([enron_df, capstone_df], ignore_index=True)\n",
    "combined_df.to_csv('/mnt/data/combined.csv', index=False)\n",
    "combined_df.head()\n"
   ]
  }
 ],
 "metadata": {
  "language_info": {
   "name": "python"
  }
 },
 "nbformat": 4,
 "nbformat_minor": 2
}
