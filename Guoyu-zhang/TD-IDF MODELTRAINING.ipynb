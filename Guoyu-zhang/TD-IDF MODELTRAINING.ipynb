{
  "metadata": {
    "kernelspec": {
      "name": "python",
      "display_name": "Python (Pyodide)",
      "language": "python"
    },
    "language_info": {
      "codemirror_mode": {
        "name": "python",
        "version": 3
      },
      "file_extension": ".py",
      "mimetype": "text/x-python",
      "name": "python",
      "nbconvert_exporter": "python",
      "pygments_lexer": "ipython3",
      "version": "3.8"
    }
  },
  "nbformat_minor": 5,
  "nbformat": 4,
  "cells": [
    {
      "id": "a35eeb9f-df70-4ab1-a243-2d2025888eb0",
      "cell_type": "markdown",
      "source": "import pandas as pd\nimport re\nfrom sklearn.feature_extraction.text import TfidfVectorizer\nfrom sklearn.model_selection import train_test_split\nfrom sklearn.naive_bayes import MultinomialNB\nfrom sklearn.metrics import classification_report, accuracy_score\n\n# Load the phishing emails dataset\nphishing_file_path = '/Users/zhangguoyu/Downloads/CaptstoneProjectData_2024.csv'\nphishing_data = pd.read_csv(phishing_file_path)\n\n# Load the normal emails dataset (update the file path as needed)\nnormal_file_path = '/Users/zhangguoyu/Downloads/emails.csv'\nnormal_data = pd.read_csv(normal_file_path)\n\n# Fill missing values\nphishing_data['Subject'] = phishing_data['Subject'].fillna('')\nphishing_data['Body'] = phishing_data['Body'].fillna('')\n\nnormal_data['file'] = normal_data['file'].fillna('')\nnormal_data['message'] = normal_data['message'].fillna('')\n\n# Simple preprocessing function\ndef simple_preprocess_text(text):\n    # Remove HTML tags\n    text = re.sub(r'<.*?>', '', text)\n    # Remove URLs\n    text = re.sub(r'http\\S+|www\\S+|https\\S+', '', text, flags=re.MULTILINE)\n    # Remove special characters and numbers\n    text = re.sub(r'\\W', ' ', text)\n    text = re.sub(r'\\d', ' ', text)\n    # Convert to lowercase\n    text = text.lower()\n    # Remove continuous underscores\n    text = text.replace('________________________________', '')\n    # Tokenize and remove stop words\n    words = text.split()\n    stop_words = {\n        'a', 'about', 'above', 'after', 'again', 'against', 'all', 'am', 'an', 'and', 'any', 'are', \"aren't\", 'as', 'at',\n        'be', 'because', 'been', 'before', 'being', 'below', 'between', 'both', 'but', 'by', \"can't\", 'cannot', 'could',\n        \"couldn't\", 'did', \"didn't\", 'do', 'does', \"doesn't\", 'doing', \"don't\", 'down', 'during', 'each', 'few', 'for',\n        'from', 'further', 'had', \"hadn't\", 'has', \"hasn't\", 'have', \"haven't\", 'having', 'he', \"he'd\", \"he'll\", \"he's\",\n        'her', 'here', \"here's\", 'hers', 'herself', 'him', \"himself\", 'his', 'how', \"how's\", 'I', \"I'd\", \"I'll\", \"I'm\",\n        \"I've\", 'if', 'in', 'into', 'is', \"isn't\", 'it', \"it's\", 'its', 'itself', 'let', \"let's\", 'me', 'more', 'most',\n        \"mustn't\", 'my', 'myself', 'no', 'nor', 'not', 'of', 'off', 'on', 'once', 'only', 'or', 'other', 'ought', 'our',\n        'ours', 'ourselves', 'out', 'over', 'own', 'same', \"shan't\", 'she', \"she'd\", \"she'll\", \"she's\", 'should',\n        \"shouldn't\", 'so', 'some', 'such', 'than', 'that', \"that's\", 'the', 'their', 'theirs', 'them', 'themselves', 'then',\n        'there', \"there's\", 'these', 'they', \"they'd\", \"they'll\", \"they're\", \"they've\", 'this', 'those', 'through', 'to',\n        'too', 'under', 'until', 'up', 'very', 'was', \"wasn't\", 'we', \"we'd\", \"we'll\", \"we're\", \"we've\", 'were',\n        \"weren't\", 'what', \"what's\", 'when', \"when's\", 'where', \"where's\", 'which', 'while', 'who', \"who's\", 'whom',\n        'why', \"why's\", 'with', \"won't\", 'would', \"wouldn't\", 'you', \"you'd\", \"you'll\", \"you're\", \"you've\", 'your', 'yours',\n        'yourself', 'yourselves'\n    }\n    words = [word for word in words if word not in stop_words]\n    return ' '.join(words)\n\n# Apply preprocessing function to Subject and Body columns\nphishing_data['Cleaned_Subject'] = phishing_data['Subject'].apply(simple_preprocess_text)\nphishing_data['Cleaned_Body'] = phishing_data['Body'].apply(simple_preprocess_text)\nnormal_data['Cleaned_Subject'] = normal_data['file'].apply(simple_preprocess_text)\nnormal_data['Cleaned_Body'] = normal_data['message'].apply(simple_preprocess_text)\n\n# Combine cleaned Subject and Body texts\nphishing_data['Cleaned_Text'] = phishing_data['Cleaned_Subject'] + \" \" + phishing_data['Cleaned_Body']\nnormal_data['Cleaned_Text'] = normal_data['Cleaned_Subject'] + \" \" + normal_data['Cleaned_Body']\n\n# Add labels\nphishing_data['Label'] = 1\nnormal_data['Label'] = 0\n\n# Combine both datasets\nall_emails = pd.concat([phishing_data, normal_data], ignore_index=True)\n\n# Initialize TF-IDF Vectorizer\ntfidf_vectorizer = TfidfVectorizer(max_features=1000)  # Limit to 500 features\n\n# Fit and transform the cleaned text data\ntfidf_matrix = tfidf_vectorizer.fit_transform(all_emails['Cleaned_Text'])\n\n# Convert the TF-IDF matrix to a DataFrame for better visualization\ntfidf_df = pd.DataFrame(tfidf_matrix.toarray(), columns=tfidf_vectorizer.get_feature_names_out())\n\n# Add the labels to the DataFrame\ntfidf_df['Label'] = all_emails['Label'].values\n\n# Split the data into training and test sets\nX = tfidf_df.drop('Label', axis=1)\ny = tfidf_df['Label']\nX_train, X_test, y_train, y_test = train_test_split(X, y, test_size=0.2, random_state=42)\n\n# Train a Naive Bayes classifier\nmodel = MultinomialNB()\nmodel.fit(X_train, y_train)\n\n# Make predictions\ny_pred = model.predict(X_test)\n\n# Evaluate the model\naccuracy = accuracy_score(y_test, y_pred)\nreport = classification_report(y_test, y_pred)\n\nprint(f'Accuracy: {accuracy}')\nprint('Classification Report:')\nprint(report)\n\n# Save the TF-IDF features to a CSV file, without index\noutput_file_path = '/Users/zhangguoyu/Downloads/tfidf_features.csv'\ntfidf_df.to_csv(output_file_path, index=False)\n\nprint(f\"TF-IDF features saved to file: {output_file_path}\")",
      "metadata": {}
    },
    {
      "id": "6a9c4fb1-bde6-46de-82da-c51926b8d3cb",
      "cell_type": "code",
      "source": "Accuracy: 0.997855686757183\nClassification Report:\n              precision    recall  f1-score   support\n\n           0       1.00      1.00      1.00    103447\n           1       1.00      0.59      0.75       549\n\n    accuracy                           1.00    103996\n   macro avg       1.00      0.80      0.87    103996\nweighted avg       1.00      1.00      1.00    103996",
      "metadata": {
        "trusted": true
      },
      "outputs": [],
      "execution_count": null
    },
    {
      "id": "332a2bf6-0a17-40dd-bc90-268f941fccac",
      "cell_type": "code",
      "source": "",
      "metadata": {
        "trusted": true
      },
      "outputs": [],
      "execution_count": null
    }
  ]
}